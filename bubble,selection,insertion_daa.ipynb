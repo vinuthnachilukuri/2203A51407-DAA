{
  "nbformat": 4,
  "nbformat_minor": 0,
  "metadata": {
    "colab": {
      "provenance": [],
      "include_colab_link": true
    },
    "kernelspec": {
      "name": "python3",
      "display_name": "Python 3"
    },
    "language_info": {
      "name": "python"
    }
  },
  "cells": [
    {
      "cell_type": "markdown",
      "metadata": {
        "id": "view-in-github",
        "colab_type": "text"
      },
      "source": [
        "<a href=\"https://colab.research.google.com/github/vinuthnachilukuri/2203A51407-DAA/blob/main/bubble%2Cselection%2Cinsertion_daa.ipynb\" target=\"_parent\"><img src=\"https://colab.research.google.com/assets/colab-badge.svg\" alt=\"Open In Colab\"/></a>"
      ]
    },
    {
      "cell_type": "code",
      "execution_count": null,
      "metadata": {
        "id": "JFpx3SORFnI4"
      },
      "outputs": [],
      "source": [
        "#bubble sort\n",
        "\n",
        "def bubblesort(arr):\n",
        "  n = len(arr)\n",
        "  for i in range(n):\n",
        "    for j in range(0,n-i-1):\n",
        "      if arr[j]>arr[j+1]:\n",
        "        arr[j],arr[j+1] = arr[j+1],arr[j]\n",
        "  return arr"
      ]
    },
    {
      "cell_type": "code",
      "source": [
        "import numpy as np\n",
        "arr = np.array([2,1,11,7,3,14,6])\n",
        "bubblesort(arr)"
      ],
      "metadata": {
        "colab": {
          "base_uri": "https://localhost:8080/"
        },
        "id": "FxgiK-uFMLLC",
        "outputId": "99c8581e-969b-486b-efed-6d95b6b46e07"
      },
      "execution_count": null,
      "outputs": [
        {
          "output_type": "execute_result",
          "data": {
            "text/plain": [
              "array([ 1,  2,  3,  6,  7, 11, 14])"
            ]
          },
          "metadata": {},
          "execution_count": 13
        }
      ]
    },
    {
      "cell_type": "code",
      "source": [
        "#selection sort -> repeatedly selects the smallest or largest and swaps\n",
        "def selectionsort(arr):\n",
        "  n = len(arr)\n",
        "  for i in range(n):\n",
        "    min_idx = i\n",
        "    for j in range(i+1,n):\n",
        "      if arr[j]<arr[min_idx]:\n",
        "        min_idx = j\n",
        "    arr[i],arr[min_idx]= arr[min_idx],arr[i]\n",
        "  return arr"
      ],
      "metadata": {
        "id": "ZepPlRjKPJ9v"
      },
      "execution_count": null,
      "outputs": []
    },
    {
      "cell_type": "code",
      "source": [
        "import numpy as np\n",
        "arr = np.array([3,1,9,5,16,12])\n",
        "selectionsort(arr)"
      ],
      "metadata": {
        "colab": {
          "base_uri": "https://localhost:8080/"
        },
        "id": "z4-qkD5YPMGL",
        "outputId": "cc817525-4c6a-4c98-9d37-0de8dd979fec"
      },
      "execution_count": null,
      "outputs": [
        {
          "output_type": "execute_result",
          "data": {
            "text/plain": [
              "array([ 1,  3,  5,  9, 12, 16])"
            ]
          },
          "metadata": {},
          "execution_count": 15
        }
      ]
    },
    {
      "cell_type": "code",
      "source": [
        "#insertion sort -> finding minimum one and inserting at starting it builds by sorting one element at a time\n",
        "def insertionsort(arr):\n",
        "  n = len(arr)\n",
        "  for i in range(1,n):\n",
        "    key = arr[i]\n",
        "    j = i-1\n",
        "    while j>=0 and key<arr[j]:\n",
        "      arr[j+1] = arr[j]\n",
        "      j -= 1\n",
        "    arr[j+1] = key\n",
        "  return arr"
      ],
      "metadata": {
        "id": "-04kBu4ZPjcL"
      },
      "execution_count": null,
      "outputs": []
    },
    {
      "cell_type": "code",
      "source": [
        "import numpy as np\n",
        "arr = np.array([3,1,9,5,16,12])\n",
        "insertionsort(arr)"
      ],
      "metadata": {
        "colab": {
          "base_uri": "https://localhost:8080/"
        },
        "id": "ACpWQjp5PnFT",
        "outputId": "129110a7-9e15-4e30-a456-60bc1917b82a"
      },
      "execution_count": null,
      "outputs": [
        {
          "output_type": "execute_result",
          "data": {
            "text/plain": [
              "array([ 1,  3,  5,  9, 12, 16])"
            ]
          },
          "metadata": {},
          "execution_count": 17
        }
      ]
    }
  ]
}