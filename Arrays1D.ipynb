{
  "nbformat": 4,
  "nbformat_minor": 0,
  "metadata": {
    "colab": {
      "provenance": [],
      "authorship_tag": "ABX9TyNBeWg6Z2TzN2EjKRw54FQ8",
      "include_colab_link": true
    },
    "kernelspec": {
      "name": "python3",
      "display_name": "Python 3"
    },
    "language_info": {
      "name": "python"
    }
  },
  "cells": [
    {
      "cell_type": "markdown",
      "metadata": {
        "id": "view-in-github",
        "colab_type": "text"
      },
      "source": [
        "<a href=\"https://colab.research.google.com/github/alluriharshasri/2203A51460_DAA_Lab/blob/main/Arrays1D.ipynb\" target=\"_parent\"><img src=\"https://colab.research.google.com/assets/colab-badge.svg\" alt=\"Open In Colab\"/></a>"
      ]
    },
    {
      "cell_type": "code",
      "execution_count": 1,
      "metadata": {
        "colab": {
          "base_uri": "https://localhost:8080/"
        },
        "id": "b2deOVnMYEuS",
        "outputId": "d6b69555-95e0-4a44-8294-1769a0411c26"
      },
      "outputs": [
        {
          "output_type": "stream",
          "name": "stdout",
          "text": [
            "Writing Array1d.c\n"
          ]
        }
      ],
      "source": [
        "%%writefile Array1d.c\n",
        "#include<stdio.h>\n",
        "#include<stdlib.h>\n",
        "\n",
        "int len = 0 ;\n",
        "\n",
        "void InsertElement (int a[], int Index , int Val){\n",
        "    if (Index <= len ){\n",
        "        len++;\n",
        "        for (int  i = len-1; i > Index ; i--){\n",
        "            a[i] = a[i-1];\n",
        "        }\n",
        "        a[Index] = Val;\n",
        "    }\n",
        "}\n",
        "\n",
        "void DeleteElement (int a[], int Index){\n",
        "    if (Index <= len ){\n",
        "        for (int  i = Index; i < len; i++){\n",
        "            a[i] = a[i+1];\n",
        "        }\n",
        "        len--;\n",
        "    }\n",
        "}\n",
        "\n",
        "void SearchKeyVal(int a[]){\n",
        "    int key;\n",
        "    int count = 0;\n",
        "    printf(\"\\n\\t Enter Key Value : \");\n",
        "    scanf(\"%d\",&key);\n",
        "    for (int i = 0 ; i < len ; i++){\n",
        "        if (key == a[i]){\n",
        "            printf(\"\\n\\tKey Value Found At Index %d\\n\",i);\n",
        "            count++;\n",
        "        }\n",
        "    }\n",
        "\n",
        "    if(!count){\n",
        "        printf(\"Key Value Not Found In The Array !\\n\");\n",
        "    }\n",
        "}\n",
        "\n",
        "int ArraySum(int a[],int n){\n",
        "    if (n==0)\n",
        "        return a[0];\n",
        "    else\n",
        "        return a[n]+ArraySum(a,n-1);\n",
        "}\n",
        "\n",
        "void DisplayArray (int a[]){\n",
        "    printf(\"\\n\");\n",
        "    for (int i = 0; i < len; i++)\n",
        "        printf(\"\\t%d\",a[i]);\n",
        "    printf(\"\\n\");\n",
        "}\n",
        "\n",
        "int main(){\n",
        "    int a[10],Ch,Index,Val;\n",
        "\n",
        "    printf(\"Enter Number Of Elements You Want To Store : \");\n",
        "    scanf(\"%d\",&len);\n",
        "\n",
        "    for (int i = 0 ; i < len ; i++){\n",
        "        printf(\"\\nEnter Element a[%d] : \",i);\n",
        "        scanf(\"%d\",&a[i]);\n",
        "    }\n",
        "\n",
        "    while(1){\n",
        "        printf(\"\\n1.Insert An Element At The Begining Of Array\\n\");\n",
        "        printf(\"2.Insert An Element At The End Of Array\\n\");\n",
        "        printf(\"3.Insert An Element At The Specified Index Of Array\\n\");\n",
        "        printf(\"4.Delete An Element At The Begining Of Array\\n\");\n",
        "        printf(\"5.Delete An Element At The End Of Array\\n\");\n",
        "        printf(\"6.Delete An Element At The Specified Index Of Array\\n\");\n",
        "        printf(\"7.Searching For An Element In The Array\\n\");\n",
        "        printf(\"8.Display Sum of Array\\n\");\n",
        "        printf(\"9.Display Array Elements\\n\");\n",
        "        printf(\"10.Exit\\n\");\n",
        "        printf(\"\\n\\tEnter Your Choice : \");\n",
        "        fflush(stdin);\n",
        "        scanf(\"%d\",&Ch);\n",
        "\n",
        "        switch (Ch){\n",
        "        case 1:\n",
        "            printf(\"\\nEnter Value You Want To Store At Begining : \");\n",
        "            scanf(\"%d\",&Val);\n",
        "            InsertElement(a,0,Val);\n",
        "            printf(\"Element Inserted Successfully At Begining\\n\");\n",
        "            break;\n",
        "        case 2:\n",
        "            printf(\"\\nEnter Value You Want To Store At End : \");\n",
        "            scanf(\"%d\",&Val);\n",
        "            InsertElement(a,len,Val);\n",
        "            printf(\"Element Inserted Successfully At End\\n\");\n",
        "            break;\n",
        "        case 3:\n",
        "            printf(\"\\nEnter Value You Want To Store : \");\n",
        "            scanf(\"%d\",&Val);\n",
        "            printf(\"\\nEnter At Which Index You Want To Store : \");\n",
        "            scanf(\"%d\",&Index);\n",
        "            InsertElement(a,Index,Val);\n",
        "            printf(\"Element Inserted Successfully At Index %d\\n\",Index);\n",
        "            break;\n",
        "        case 4:\n",
        "            DeleteElement(a,0);\n",
        "            printf(\"Element Deleted Successfully At Begining\\n\");\n",
        "            break;\n",
        "        case 5:\n",
        "            DeleteElement(a,len);\n",
        "            printf(\"Element Deleted Successfully At End\\n\");\n",
        "            break;\n",
        "        case 6:\n",
        "            printf(\"Enter Index Of Element You Want To Delete : \");\n",
        "            scanf(\"%d\",&Index);\n",
        "            DeleteElement(a,Index);\n",
        "            printf(\"Element Deleted Successfully At Index %d\\n\",Index);\n",
        "            break;\n",
        "        case 7:\n",
        "            SearchKeyVal(a);\n",
        "            break;\n",
        "        case 8:\n",
        "            DisplayArray(a);\n",
        "            break;\n",
        "        case 9:\n",
        "            printf(\"\\nSum Of Elements In The Array : %d\\n\\n\", ArraySum(a,len));\n",
        "        case 10:\n",
        "            exit(0);\n",
        "        default: printf(\"\\n\\tWrong Input Please Enter Again : \");\n",
        "            break;\n",
        "        }\n",
        "    }\n",
        "    return 0;\n",
        "}"
      ]
    },
    {
      "cell_type": "code",
      "source": [
        "!gcc Array1d.c"
      ],
      "metadata": {
        "id": "Qc6-FeRoYdKH"
      },
      "execution_count": 2,
      "outputs": []
    },
    {
      "cell_type": "code",
      "source": [
        "!./a.out"
      ],
      "metadata": {
        "colab": {
          "base_uri": "https://localhost:8080/"
        },
        "id": "1Tkbze6IYjVh",
        "outputId": "7ce7c7a0-1d52-4392-f6f1-5b1c5a9c5177"
      },
      "execution_count": 3,
      "outputs": [
        {
          "output_type": "stream",
          "name": "stdout",
          "text": [
            "Enter Number Of Elements You Want To Store : 4\n",
            "\n",
            "Enter Element a[0] : 1\n",
            "\n",
            "Enter Element a[1] : 2\n",
            "\n",
            "Enter Element a[2] : 3\n",
            "\n",
            "Enter Element a[3] : 4\n",
            "\n",
            "1.Insert An Element At The Begining Of Array\n",
            "2.Insert An Element At The End Of Array\n",
            "3.Insert An Element At The Specified Index Of Array\n",
            "4.Delete An Element At The Begining Of Array\n",
            "5.Delete An Element At The End Of Array\n",
            "6.Delete An Element At The Specified Index Of Array\n",
            "7.Searching For An Element In The Array\n",
            "8.Display Sum of Array\n",
            "9.Display Array Elements\n",
            "10.Exit\n",
            "\n",
            "\tEnter Your Choice : 1\n",
            "\n",
            "Enter Value You Want To Store At Begining : 0\n",
            "Element Inserted Successfully At Begining\n",
            "\n",
            "1.Insert An Element At The Begining Of Array\n",
            "2.Insert An Element At The End Of Array\n",
            "3.Insert An Element At The Specified Index Of Array\n",
            "4.Delete An Element At The Begining Of Array\n",
            "5.Delete An Element At The End Of Array\n",
            "6.Delete An Element At The Specified Index Of Array\n",
            "7.Searching For An Element In The Array\n",
            "8.Display Sum of Array\n",
            "9.Display Array Elements\n",
            "10.Exit\n",
            "\n",
            "\tEnter Your Choice : 9\n",
            "\n",
            "Sum Of Elements In The Array : 10\n",
            "\n"
          ]
        }
      ]
    }
  ]
}